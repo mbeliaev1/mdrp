{
 "cells": [
  {
   "cell_type": "code",
   "execution_count": 1,
   "metadata": {},
   "outputs": [],
   "source": [
    "import os\n",
    "import sys\n",
    "root = '/home/mark/Documents/code/mdrp'\n",
    "sys.path.append(root)\n",
    "\n",
    "import numpy as np\n",
    "import pickle\n",
    "from utils.nlp_mdrp import mdrp_prob\n",
    "import cyipopt\n",
    "\n",
    "from utils.convert import convert_chi\n",
    "from utils.nlp_mdrp import mdrp_prob\n",
    "from utils.helpers_chi import *\n"
   ]
  },
  {
   "cell_type": "code",
   "execution_count": 2,
   "metadata": {},
   "outputs": [],
   "source": [
    "def main(parameters):\n",
    "    # Setup the directory and logger    \n",
    "    # Load the instance\n",
    "\n",
    "    data_path = parameters['data_path']\n",
    "    prob_setup = convert_chi(data_path,parameters)\n",
    "    # add additional parameters\n",
    "    prob_setup['max_rho'] =  parameters['max_rho']\n",
    "    prob_setup['demand']  =  parameters['demand']\n",
    "    prob_setup['scale']   =  parameters['scale']\n",
    "    # SOLVE NLP\n",
    "    mdrp = mdrp_prob(prob_setup)\n",
    "    lb, ub, cl, cu = mdrp.get_bounds()\n",
    "    x0 = mdrp.guess_init()\n",
    "    nlp = cyipopt.Problem(\n",
    "        n=len(x0),\n",
    "        m=len(cl),\n",
    "        problem_obj=mdrp,\n",
    "        lb=lb,\n",
    "        ub=ub,\n",
    "        cl=cl,\n",
    "        cu=cu\n",
    "        )\n",
    "\n",
    "    # nlp.addOption('derivative_test', 'second-order')\n",
    "    nlp.add_option('mu_strategy', 'adaptive')\n",
    "    nlp.add_option('tol', 1e-4)\n",
    "\n",
    "    x, info = nlp.solve(x0)\n",
    "\n",
    "    # Eval\n",
    "    return x, mdrp"
   ]
  },
  {
   "cell_type": "code",
   "execution_count": 3,
   "metadata": {},
   "outputs": [],
   "source": [
    "parameters = {}\n",
    "parameters['seed'] = 0\n",
    "parameters['data_path'] = '/home/mark/Documents/code/mdrp/chicago/all.p'\n",
    "parameters['scale'] = False\n",
    "parameters['demand'] = 1550 # exact is 1472 per hour\n",
    "# parameters['scale'] = True\n",
    "# parameters['demand'] = 0.99 # exact is 1472 per hour\n",
    "parameters['cost'] = [50,40,25] # air, luxury, regular\n",
    "parameters['Beta_max'] = 0.3\n",
    "parameters['Beta_min'] = 0.1\n",
    "N_values = ([100,100,900],[1,110,990])\n",
    "parameters['mode_names'] = ['UAT','AV','V']\n",
    "parameters['max_rho'] = [0.75,0.95,0.95]\n",
    "parameters['alpha_scale'] = np.array([80, 60, 40])/40\n",
    "# parameters['alpha_scale'] = np.array([100, 40.06, 33.89])/33.89\n",
    "# parameters['alpha_scale'] = np.array([1,1,1])\n",
    "# N_values = (np.array([8500,500,1100]),)\n",
    "# N_values = ([100,1,1],)"
   ]
  },
  {
   "cell_type": "code",
   "execution_count": 4,
   "metadata": {},
   "outputs": [],
   "source": [
    "# # CHECK FOR MAX DEMAND\n",
    "# N_values = ([100,100,900],[1,110,990])\n",
    "\n",
    "# for N, i in zip(N_values, range(len(N_values))):\n",
    "#     # Assumes first is only cars\n",
    "#     if i == 0:\n",
    "#         parameters['max_rho'] = [0.75,0.95,0.95]\n",
    "#     elif i == 1:\n",
    "#         parameters['max_rho'] = [0,0.95,0.95]\n",
    "\n",
    "#     parameters['N'] = N\n",
    "#     # parameters['max_rho'] = [0.75,0.95,0.95]\n",
    "#     # load the instance\n",
    "#     data_path = parameters['data_path']\n",
    "#     prob_setup = convert_chi(data_path,parameters)\n",
    "#     # add additional parameters\n",
    "\n",
    "#     # print(prob_setup['avg_dph'].mean())\n",
    "#     prob_setup['max_rho'] =  parameters['max_rho']\n",
    "#     prob_setup['demand']  =  parameters['demand']\n",
    "#     prob_setup['scale']   =  parameters['scale']\n",
    "#     # SOLVE NLP\n",
    "#     mdrp = mdrp_prob(prob_setup)\n",
    "\n",
    "#     print(mdrp.tot_demand)\n",
    "# # print(prob_setup['q_time']*60)"
   ]
  },
  {
   "cell_type": "code",
   "execution_count": 5,
   "metadata": {},
   "outputs": [],
   "source": [
    "# import pickle \n",
    "\n",
    "# results = []\n",
    "\n",
    "# for N, i in zip(N_values, range(len(N_values))):\n",
    "#     # Assumes first is only cars\n",
    "#     if i == 0:\n",
    "#         parameters['max_rho'] = [0.75,0.95,0.95]\n",
    "#     elif i == 1:\n",
    "#         parameters['max_rho'] = [0,0.95,0.95]\n",
    "\n",
    "#     parameters['N'] = N\n",
    "#     # load the instance\n",
    "#     result = {}\n",
    "#     print('Running iter')\n",
    "\n",
    "#     sol, mdrp = main(parameters)\n",
    "#     result['sol'] = sol\n",
    "#     result['mdrp'] = mdrp\n",
    "#     result['parameters'] = parameters\n",
    "#     results.append(result)\n",
    "\n"
   ]
  },
  {
   "cell_type": "code",
   "execution_count": 6,
   "metadata": {},
   "outputs": [],
   "source": [
    "# results_path = '/home/mark/Documents/code/mdrp/results/chicago.p'\n",
    "# pickle.dump(results, open(results_path,'wb'))"
   ]
  },
  {
   "cell_type": "code",
   "execution_count": 7,
   "metadata": {},
   "outputs": [
    {
     "name": "stdout",
     "output_type": "stream",
     "text": [
      "solution\n",
      "1550.0 1549.9999999999998\n",
      "rounded solution\n",
      "1549.9999802424754 1549.9999999999998\n",
      "\n",
      "\n",
      "Problem Evlatuation\n",
      "--------------------------------------------------------\n",
      "Orders Demanded (order/hour): 1550.00\n",
      "--------------------------------------------------------\n",
      "Mode \t\t|UAT\t|AV\t|T\t|total\t|\n",
      "----------------|-------|-------|-------|-------|\n",
      "N (# veh.)\t|100\t|100\t|900\t|\n",
      "Orders (%)\t|8.67\t|8.17\t|83.16\t|100.00\t|\n",
      "Utilization (%)\t|0.75\t|0.87\t|0.94\t|0.92\t|\n",
      "D Time(min.)\t|22.52\t|30.46\t|34.95\t|33.50\t|\n",
      "Order Price\t|112.15\t|42.50\t|40.96\t|47.26\t|\n",
      "Op. Cost ($/hr)\t|5000\t|3000\t|18000\t|26000\t|\n",
      "Profit ($/hr)\t|10079\t|2379\t|34799\t|47257\t|--------------------------------------------------------\n",
      "Minimum Price ($): 39.15\n",
      "--------------------------------------------------------\n"
     ]
    }
   ],
   "source": [
    "results_path = '/home/mark/Documents/code/mdrp/results/chicago.p'\n",
    "results = pickle.load(open(results_path,'rb'))\n",
    "\n",
    "for i in range(len(results)):\n",
    "    result = results[i]\n",
    "    mdrp = result['mdrp']\n",
    "    x = result['sol']\n",
    "    flow = mdrp.vec_to_mat(x)\n",
    "    lat = mdrp.get_latency(flow)\n",
    "    # mask when drones are slowest\n",
    "    print('solution')\n",
    "    print(flow.sum().sum(), mdrp.tot_demand)\n",
    "    mask = np.argmax(lat,axis=1)==0 \n",
    "    flow[mask,0] = 0\n",
    "    # check that the solution is still valid (nearly zero flow)\n",
    "    print('rounded solution')\n",
    "    print(flow.sum().sum(), mdrp.tot_demand)\n",
    "    # update solution by removing drones on inefficient routes\n",
    "    result['sol'] = mdrp.mat_to_vec(flow)\n",
    "    # evaluate\n",
    "    prices, min_prices = eval_sol(result)\n",
    "    # break\n",
    "\n",
    "    \n"
   ]
  },
  {
   "cell_type": "markdown",
   "metadata": {},
   "source": []
  },
  {
   "cell_type": "markdown",
   "metadata": {},
   "source": []
  },
  {
   "cell_type": "code",
   "execution_count": 8,
   "metadata": {},
   "outputs": [
    {
     "name": "stdout",
     "output_type": "stream",
     "text": [
      "0\n"
     ]
    }
   ],
   "source": [
    "# NASH CONDITION IS SATISFIED EXPLICITLY\n",
    "# NOTE 1e-6 is used for floating poat error, where flow is rounded to 4th decimal\n",
    "count = 0\n",
    "flow = np.round(flow,4)\n",
    "for i in range(mdrp.n):\n",
    "    if not mask[i]:\n",
    "        # drone to car r\n",
    "        cost_drone = alpha_func(mdrp.alpha_0[i,0], mdrp.delta[i,0], flow[i,0])*prices[i,0] + lat[i,0]\n",
    "        cost_car = alpha_func(mdrp.alpha_0[i,2], mdrp.delta[i,2], flow[i,0])*prices[i,2] + lat[i,2]\n",
    "        if cost_drone - 1e-6 > cost_car:\n",
    "            count+= 1\n",
    "            print('1: ',cost_drone,cost_car,flow[i])\n",
    "        # drone to car l\n",
    "        cost_drone = alpha_func(mdrp.alpha_0[i,0], mdrp.delta[i,0], flow[i,0])*prices[i,0] + lat[i,0]\n",
    "        cost_car = alpha_func(mdrp.alpha_0[i,2], mdrp.delta[i,2], flow[i,0])*prices[i,2] + lat[i,2]\n",
    "        if cost_drone - 1e-6 > cost_car:\n",
    "            count+= 1\n",
    "            print('2: ',cost_drone,cost_car,flow[i])\n",
    "        # car to drone r\n",
    "        cost_drone = alpha_func(mdrp.alpha_0[i,0], mdrp.delta[i,0], flow[i].sum())*prices[i,0] + lat[i,0]\n",
    "        cost_car = alpha_func(mdrp.alpha_0[i,2], mdrp.delta[i,2], flow[i].sum())*prices[i,2] + lat[i,2]\n",
    "        if cost_car - 1e-6 > cost_drone:\n",
    "            count+= 1\n",
    "            print('3: ',cost_drone,cost_car,flow[i])\n",
    "        # car to drone l\n",
    "        cost_drone = alpha_func(mdrp.alpha_0[i,0], mdrp.delta[i,0], flow[i].sum()-flow[i,2])*prices[i,0] + lat[i,0]\n",
    "        cost_car = alpha_func(mdrp.alpha_0[i,2], mdrp.delta[i,2], flow[i].sum()-flow[i,2])*prices[i,2] + lat[i,2]\n",
    "        if cost_car - 1e-6 > cost_drone:\n",
    "            count+= 1\n",
    "            print('4: ',cost_drone,cost_car,flow[i])\n",
    "print(count)"
   ]
  },
  {
   "cell_type": "code",
   "execution_count": 9,
   "metadata": {},
   "outputs": [
    {
     "name": "stdout",
     "output_type": "stream",
     "text": [
      "0\n"
     ]
    }
   ],
   "source": [
    "# NASH CONDITION SATSIFIED IMPLICITLY\n",
    "count = 0\n",
    "for i in range(mdrp.n):\n",
    "    if not mask[i]:\n",
    "        if flow[i,1] > 0: \n",
    "            # drone to car r\n",
    "            alpha1_a1 = alpha_func(mdrp.alpha_0[i,0], mdrp.delta[i,0], flow[i,0])\n",
    "            alpha3_a1 = alpha_func(mdrp.alpha_0[i,2], mdrp.delta[i,2], flow[i,0])\n",
    "            alpha1_a2 = alpha_func(mdrp.alpha_0[i,0], mdrp.delta[i,0], flow[i].sum()-flow[i,-1])\n",
    "            alpha3_a2 = alpha_func(mdrp.alpha_0[i,2], mdrp.delta[i,2], flow[i].sum()-flow[i,-1])\n",
    "\n",
    "            left  = ((alpha1_a1/alpha3_a1)*prices[i,0]) - ((lat[i,2] - lat[i,0])/alpha3_a1)\n",
    "            right = ((alpha1_a2/alpha3_a2)*prices[i,0]) - ((lat[i,2] - lat[i,0])/alpha3_a2)\n",
    "\n",
    "            if not all(np.argsort([left, prices[i,2], right])==[0,1,2]):\n",
    "        # if np.argsort([left, prices[i,2], right]) != [0,1,2]:\n",
    "                print(i)\n",
    "                print(flow[i])\n",
    "                count += 1\n",
    "\n",
    "print(count)"
   ]
  },
  {
   "cell_type": "code",
   "execution_count": null,
   "metadata": {},
   "outputs": [],
   "source": []
  },
  {
   "cell_type": "code",
   "execution_count": null,
   "metadata": {},
   "outputs": [],
   "source": []
  }
 ],
 "metadata": {
  "kernelspec": {
   "display_name": "mdrp",
   "language": "python",
   "name": "python3"
  },
  "language_info": {
   "codemirror_mode": {
    "name": "ipython",
    "version": 3
   },
   "file_extension": ".py",
   "mimetype": "text/x-python",
   "name": "python",
   "nbconvert_exporter": "python",
   "pygments_lexer": "ipython3",
   "version": "3.9.16 (main, Mar  1 2023, 18:22:10) \n[GCC 11.2.0]"
  },
  "orig_nbformat": 4,
  "vscode": {
   "interpreter": {
    "hash": "c298fb8bc2dfcb20af52054ce8d5e6277c2944e14fcc2024a0bb888e93340687"
   }
  }
 },
 "nbformat": 4,
 "nbformat_minor": 2
}
