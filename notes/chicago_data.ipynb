{
 "cells": [
  {
   "cell_type": "markdown",
   "metadata": {},
   "source": [
    "Transportation Network Providers - Trips (2023-)\n",
    "\n",
    "Chicago (Jan 2023 - July 11 2023)\n",
    "\n",
    "[Website](https://data.cityofchicago.org/Transportation/Transportation-Network-Providers-Trips-2023-/n26f-ihde) Accessed July 24 2023\n",
    "\n",
    "- 33 million reported trips ()\n",
    "\n",
    "- Size: 9 GB\n",
    "\n",
    "- Census Tracts are suppressed in some cases, and times are rounded to the nearest 15 minutes. Fares are rounded to the nearest $2.50 and tips are rounded to the nearest $1.00.\n",
    "\n",
    "- 77 areas (1-78 in [official map](https://www.chicago.gov/content/dam/city/depts/doit/general/GIS/Chicago_Maps/Citywide_Maps/Community_Areas_W_Numbers.pdf))\n",
    "\n",
    "- 75 (76 on map) is the Chicago O'Hare International Airport (to and from approx 10 minutes)\n",
    "- 31 (32 on map) is the Chicago Loop, where the vertiport takeoff is located\n",
    " \n",
    "- Considering 42057# of orders requested between 04/13/2023 07:00:00 AM and 04/13/2023 09:00:00 AM\n",
    "portion of total orders authorized for sharing:  0.028936918943338802\n",
    "\n",
    "- Considering 42057# of orders requested between 05/12/2023 07:00:00 PM and 05/12/2023 11:00:00 PM\n",
    "portion of total orders authorized for sharing:  0.028936918943338802\n",
    "\n"
   ]
  },
  {
   "cell_type": "code",
   "execution_count": 1,
   "metadata": {},
   "outputs": [],
   "source": [
    "import pickle\n",
    "import os\n",
    "import sys\n",
    "root = '/home/mark/Documents/code/mdrp'\n",
    "sys.path.append(root)\n",
    "\n",
    "import numpy as np\n",
    "import pandas as pd\n",
    "\n",
    "data_path = '/home/mark/Documents/code/Chicago.csv'\n"
   ]
  },
  {
   "cell_type": "code",
   "execution_count": 2,
   "metadata": {},
   "outputs": [],
   "source": [
    "# df = pd.read_csv(data_path,nrows=100000)\n",
    "df = pd.read_csv(data_path)\n",
    "cols_to_keep = ['Trip Seconds',\n",
    "                'Trip Miles',\n",
    "                'Pickup Community Area',\n",
    "                'Dropoff Community Area',\n",
    "                'Fare',\n",
    "                'Additional Charges',\n",
    "                'Shared Trip Authorized',\n",
    "                'Trip Start Timestamp'\n",
    "                ]\n",
    "\n",
    "# trim the data for a specific date\n",
    "# time_start = '05/12/2023 07:00:00 PM'\n",
    "# time_end = '05/12/2023 11:00:00 PM'\n",
    "\n",
    "# lb_idx = df['Trip Start Timestamp']>=time_start\n",
    "# ub_idx = df['Trip Start Timestamp']<=time_end\n",
    "# idx = lb_idx&ub_idx\n",
    "# df = df[idx]\n",
    "\n",
    "# Remove Invalid Data                \n",
    "df = df[cols_to_keep]\n",
    "df = df.dropna()\n",
    "\n",
    "df['Price'] = df['Fare']+df['Additional Charges']\n",
    "\n",
    "df = df.query('Price>1')\n",
    "df = df.query('`Trip Miles`>0.1')\n",
    "df = df.query('`Trip Seconds`>60')\n",
    "\n",
    "df['Trip Hours'] = df['Trip Seconds']/3600\n",
    "df['Value'] = df['Price']/df['Trip Hours']\n",
    "\n",
    "df = df.drop(columns=['Fare', 'Additional Charges','Trip Seconds','Trip Start Timestamp'])\n",
    "df = df.astype({'Pickup Community Area':'int'})\n",
    "df = df.astype({'Dropoff Community Area':'int'})\n",
    "\n",
    "len_df = len(df)\n",
    "# print('Considering %d# of orders requested between %s and %s'%(len(df),time_start,time_end))"
   ]
  },
  {
   "cell_type": "code",
   "execution_count": 3,
   "metadata": {},
   "outputs": [
    {
     "name": "stdout",
     "output_type": "stream",
     "text": [
      "Trip Miles\n",
      "Pickup Community Area\n",
      "Dropoff Community Area\n",
      "Shared Trip Authorized\n",
      "Price\n",
      "Trip Hours\n",
      "Value\n",
      "portion of total orders authorized for sharing:  0.040022028052027356\n"
     ]
    }
   ],
   "source": [
    "for col in df.columns:\n",
    "    print(col)\n",
    "\n",
    "# Check some overall stats\n",
    "print('portion of total orders authorized for sharing: ',len(df.query('`Shared Trip Authorized` == True'))/len(df))"
   ]
  },
  {
   "cell_type": "code",
   "execution_count": 4,
   "metadata": {},
   "outputs": [],
   "source": [
    "# Initialize a matrix representing [pickup][dropoff][type][mean/std]\n",
    "# type = 0,1,2 correspodns to total, single, shared\n",
    "# mean and std are recorded\n",
    "\n",
    "\n",
    "\n",
    "# Shared is portion [0,1] of orders with share authorizaiton\n",
    "# Rate is portion [0,1] of all orders that are in this group\n",
    "data = {'Latency':np.zeros((77,77,3,2)),\n",
    "        'Distance':np.zeros((77,77,3,2)),\n",
    "        'Value':np.zeros((77,77,3,2)),\n",
    "        'Price':np.zeros((77,77,3,2)),\n",
    "        'Shared':np.zeros((77,77)),\n",
    "        'Rate':np.zeros((77,77)),\n",
    "}\n",
    "\n",
    "time = []\n",
    "distance = []\n",
    "price = []\n",
    "shared = []\n",
    "\n",
    "\n",
    "for group_name, df_group in df.groupby(['Pickup Community Area','Dropoff Community Area']):\n",
    "    # get indeces, start them at one\n",
    "    pickup, dropoff = group_name\n",
    "    pickup -= 1\n",
    "    dropoff -= 1\n",
    "\n",
    "    # split dataframe into three subparts\n",
    "    df_single = df_group.query('`Shared Trip Authorized` == False')\n",
    "    df_shared = df_group.query('`Shared Trip Authorized` == True')\n",
    "    \n",
    "    # Travel time in hours\n",
    "    data['Latency'][pickup][dropoff][0] = [df_group['Trip Hours'].mean(), df_group['Trip Hours'].std()]\n",
    "    data['Latency'][pickup][dropoff][1] = [df_single['Trip Hours'].mean(), df_single['Trip Hours'].std()]\n",
    "    data['Latency'][pickup][dropoff][2] = [df_shared['Trip Hours'].mean(), df_shared['Trip Hours'].std()]\n",
    "\n",
    "    # Distance in miles\n",
    "    data['Distance'][pickup][dropoff][0] = [df_group['Trip Miles'].mean(), df_group['Trip Miles'].std()]\n",
    "    data['Distance'][pickup][dropoff][1] = [df_single['Trip Miles'].mean(), df_single['Trip Miles'].std()]\n",
    "    data['Distance'][pickup][dropoff][2] = [df_shared['Trip Miles'].mean(), df_shared['Trip Miles'].std()]\n",
    "\n",
    "    # Value in $/hour\n",
    "    data['Value'][pickup][dropoff][0] = [df_group['Value'].mean(), df_group['Value'].std()]\n",
    "    data['Value'][pickup][dropoff][1] = [df_single['Value'].mean(), df_single['Value'].std()]\n",
    "    data['Value'][pickup][dropoff][2] = [df_shared['Value'].mean(), df_shared['Value'].std()]\n",
    "\n",
    "    # Price in $\n",
    "    data['Price'][pickup][dropoff][0] = [df_group['Price'].mean(), df_group['Price'].std()]\n",
    "    data['Price'][pickup][dropoff][1] = [df_single['Price'].mean(), df_single['Price'].std()]\n",
    "    data['Price'][pickup][dropoff][2] = [df_shared['Price'].mean(), df_shared['Price'].std()]\n",
    "\n",
    "    # Portion Shared\n",
    "    data['Shared'][pickup][dropoff] = len(df_shared)/len(df_group)\n",
    "\n",
    "    # Portion of Total\n",
    "    data['Rate'][pickup][dropoff] = len(df_group)/len_df"
   ]
  },
  {
   "cell_type": "code",
   "execution_count": 9,
   "metadata": {},
   "outputs": [
    {
     "name": "stdout",
     "output_type": "stream",
     "text": [
      "[54 51 73 46  8 36 53 17 11 63 71 61 35 44 47 49 56 50 12 64 58 16 74 62\n",
      " 19 69 10  9 52 25 72 39 45 57 59 66 33 60 38 26 65 67 29 37 48 34 13 14\n",
      " 18  1 70 68 28 43 22 41 15  3 20 42  4 55  0 30 24 76 32  2 40 75 21  6\n",
      " 23  5 31 27  7]\n"
     ]
    }
   ],
   "source": [
    "print(np.argsort(data['Rate'].sum(axis=1)))"
   ]
  },
  {
   "cell_type": "code",
   "execution_count": 6,
   "metadata": {},
   "outputs": [],
   "source": [
    "# save_path = '/home/mark/Documents/code/mdrp/results/all.p'\n",
    "# pickle.dump(data, open(save_path,'wb'))"
   ]
  },
  {
   "cell_type": "code",
   "execution_count": null,
   "metadata": {},
   "outputs": [],
   "source": []
  },
  {
   "cell_type": "code",
   "execution_count": 7,
   "metadata": {},
   "outputs": [],
   "source": [
    "# import pickle \n",
    "# save_path = '/home/mark/Documents/code/mdrp/chicago/all.p'\n",
    "# data = pickle.load(open(save_path,'rb'))\n",
    "\n",
    "# pickup  = 7\n",
    "# dropoff = 7\n",
    "\n",
    "# print('Latency (hours)')\n",
    "# print(data['Latency'][pickup][dropoff])\n",
    "\n",
    "# print('Distance (miles)')\n",
    "# print(data['Distance'][pickup][dropoff])\n",
    "\n",
    "# print('Value ($/hour)')\n",
    "# print(data['Value'][pickup][dropoff])\n",
    "\n",
    "# print('Price ($)')\n",
    "# print(data['Price'][pickup][dropoff])\n",
    "\n",
    "# print('Portion Shared')\n",
    "# print(data['Shared'][pickup][dropoff])\n",
    "\n",
    "# print('Rate')\n",
    "# print(data['Rate'][pickup][dropoff])"
   ]
  },
  {
   "cell_type": "code",
   "execution_count": 8,
   "metadata": {},
   "outputs": [],
   "source": [
    "# import pickle \n",
    "# save_path = '/home/mark/Documents/code/mdrp/chicago/morning.p'\n",
    "# data = pickle.load(open(save_path,'rb'))\n",
    "\n",
    "# pickup  = 7\n",
    "# dropoff = 7\n",
    "\n",
    "# print('Latency (hours)')\n",
    "# print(data['Latency'][pickup][dropoff])\n",
    "\n",
    "# print('Distance (miles)')\n",
    "# print(data['Distance'][pickup][dropoff])\n",
    "\n",
    "# print('Value ($/hour)')\n",
    "# print(data['Value'][pickup][dropoff])\n",
    "\n",
    "# print('Price ($)')\n",
    "# print(data['Price'][pickup][dropoff])\n",
    "\n",
    "# print('Portion Shared')\n",
    "# print(data['Shared'][pickup][dropoff])\n",
    "\n",
    "# print('Rate')\n",
    "# print(data['Rate'][pickup][dropoff])"
   ]
  },
  {
   "cell_type": "markdown",
   "metadata": {},
   "source": [
    "Requests consist of some pickup/dropoff combination. \n",
    "\n",
    "The pickup negihberhood is what determines how long it will take for a vehicle to arrive. We can use the same server utilization formula. \n",
    "\n",
    "The travel time is determined by the individual requests \n",
    "\n",
    "\n",
    "Each \n",
    "\n",
    "Parameters for the case study with urban transport.\n",
    "\n",
    "- $s_{i,j}$: service time\n",
    "- $t_{i,j}$: travel time, can be computed as average between  \n",
    "- $u_{i,j}$: wait time for vehicle to arrive, requires paramters below  \n",
    "    - $N$: number of couriers\n",
    "    - $\\mu$: rate of order completion \n",
    "    - $\\rho$: service utilization, solved for\n",
    "    - $\\bar{\\rho}$: max service utilization, can be approximated using M/M/c calculator\n",
    "    - N: number of couriers"
   ]
  },
  {
   "cell_type": "code",
   "execution_count": null,
   "metadata": {},
   "outputs": [],
   "source": []
  }
 ],
 "metadata": {
  "kernelspec": {
   "display_name": "mdrp",
   "language": "python",
   "name": "python3"
  },
  "language_info": {
   "codemirror_mode": {
    "name": "ipython",
    "version": 3
   },
   "file_extension": ".py",
   "mimetype": "text/x-python",
   "name": "python",
   "nbconvert_exporter": "python",
   "pygments_lexer": "ipython3",
   "version": "3.9.16 (main, Mar  1 2023, 18:22:10) \n[GCC 11.2.0]"
  },
  "orig_nbformat": 4,
  "vscode": {
   "interpreter": {
    "hash": "c298fb8bc2dfcb20af52054ce8d5e6277c2944e14fcc2024a0bb888e93340687"
   }
  }
 },
 "nbformat": 4,
 "nbformat_minor": 2
}
