{
 "cells": [
  {
   "cell_type": "code",
   "execution_count": 1,
   "metadata": {},
   "outputs": [],
   "source": [
    "import os\n",
    "import sys\n",
    "root = '/home/mark/Documents/code/mdrp'\n",
    "sys.path.append(root)\n",
    "\n",
    "import pickle\n",
    "import numpy as np\n",
    "import pickle\n",
    "from utils.nlp_mdrp import mdrp_prob\n",
    "import cyipopt\n",
    "\n",
    "from utils.convert import convert_instance\n",
    "from utils.nlp_mdrp import mdrp_prob\n",
    "from utils.helpers import *\n"
   ]
  },
  {
   "cell_type": "code",
   "execution_count": 2,
   "metadata": {},
   "outputs": [],
   "source": [
    "def main(parameters):\n",
    "    # Setup the directory and logger    \n",
    "    # Load the instance\n",
    "\n",
    "    isinstance_path = os.path.join(root+'/instances/',parameters['inst_path'])\n",
    "    prob_setup = convert_instance(isinstance_path,parameters)\n",
    "    # add additional parameters\n",
    "    prob_setup['max_rho'] =  parameters['max_rho']\n",
    "    prob_setup['demand']  =  parameters['demand']\n",
    "    prob_setup['scale']   =  parameters['scale']\n",
    "    # SOLVE NLP\n",
    "    mdrp = mdrp_prob(prob_setup)\n",
    "    lb, ub, cl, cu = mdrp.get_bounds()\n",
    "    x0 = mdrp.guess_init()\n",
    "    nlp = cyipopt.Problem(\n",
    "        n=len(x0),\n",
    "        m=len(cl),\n",
    "        problem_obj=mdrp,\n",
    "        lb=lb,\n",
    "        ub=ub,\n",
    "        cl=cl,\n",
    "        cu=cu\n",
    "        )\n",
    "\n",
    "    # nlp.addOption('derivative_test', 'second-order')\n",
    "    nlp.add_option('mu_strategy', 'adaptive')\n",
    "    nlp.add_option('tol', 1e-4)\n",
    "\n",
    "    x, info = nlp.solve(x0)\n",
    "\n",
    "    # Eval\n",
    "    return x, mdrp"
   ]
  },
  {
   "cell_type": "code",
   "execution_count": 3,
   "metadata": {},
   "outputs": [],
   "source": [
    "parameters = {}\n",
    "parameters['seed'] = 0\n",
    "parameters['speeds'] = [320,804.67,107.29] \n",
    "parameters['u_ratios'] = [1,1,1] # identical service time\n",
    "parameters['max_dph'] = 100\n",
    "parameters['min_dph'] = 10\n",
    "\n",
    "# parameters['demand'] = 0.99\n",
    "# parameters['scale'] = True # if true then uses demand value as portion of max demand\n",
    "parameters['scale'] = False\n",
    "parameters['demand'] = 275\n",
    "\n",
    "parameters['inst_path'] = '0o100t100s1p100'\n",
    "parameters['cost'] = [20,10,5]\n",
    "\n",
    "# costs are set arbitrarily large to not allow for cars\n",
    "N_values = ([100,1,1],[20,24,100])"
   ]
  },
  {
   "cell_type": "code",
   "execution_count": 4,
   "metadata": {},
   "outputs": [],
   "source": [
    "# # QUICKLY CHECK FOR MAX DEMAND\n",
    "# # NOTE: This cell is only relevant when scale parameter is true\n",
    "\n",
    "# N_values = ([100,1,1],[20,24,100])\n",
    "\n",
    "# for N, i in zip(N_values, range(len(N_values))):\n",
    "#     # Assumes first is only cars\n",
    "#     if i == 0:\n",
    "#         parameters['max_rho'] = [0.9,0,0]\n",
    "#     else:\n",
    "#         parameters['max_rho'] = [0.9,0.8,0.9]\n",
    "#     parameters['N'] = N\n",
    "#     # load the instance\n",
    "#     isinstance_path = os.path.join(root+'/instances/',parameters['inst_path'])\n",
    "#     prob_setup = convert_instance(isinstance_path,parameters)\n",
    "#     # add additional parameters\n",
    "#     prob_setup['max_rho'] =  parameters['max_rho']\n",
    "#     prob_setup['demand']  =  parameters['demand']\n",
    "#     prob_setup['scale']   =  parameters['scale']\n",
    "#     # SOLVE NLP\n",
    "#     mdrp = mdrp_prob(prob_setup)\n",
    "#     print('----------------'*4)\n",
    "#     print(N)\n",
    "#     print(mdrp.tot_demand)\n",
    "#     # print('wait time: ',prob_setup['q_time']*60)\n",
    "#     # print('service time: ',60/prob_setup['mu'])\n"
   ]
  },
  {
   "cell_type": "code",
   "execution_count": 5,
   "metadata": {},
   "outputs": [],
   "source": [
    "# RUN THE OPTIMIZATIONS\n",
    "\n",
    "# results = []\n",
    "# for N, i in zip(N_values, range(len(N_values))):\n",
    "#     # Assumes first is only cars\n",
    "#     if i == 0:\n",
    "#         parameters['max_rho'] = [0.9,0,0]\n",
    "#     else:\n",
    "#         parameters['max_rho'] = [0.9,0.8,0.9]\n",
    "#     result = {}\n",
    "#     print('Running iter %d'%i)\n",
    "#     parameters['N'] = N\n",
    "#     sol, mdrp = main(parameters)\n",
    "#     result['sol'] = sol\n",
    "#     result['mdrp'] = mdrp\n",
    "#     result['parameters'] = parameters\n",
    "#     results.append(result)\n",
    "\n"
   ]
  },
  {
   "cell_type": "code",
   "execution_count": 6,
   "metadata": {},
   "outputs": [],
   "source": [
    "# SAVE THE RESULTS\n",
    "\n",
    "# save_dir = os.path.join(root, 'results', parameters['inst_path'])\n",
    "# try: os.mkdir(save_dir)\n",
    "# except: pass\n",
    "# pickle.dump(results, open(save_dir+'/results_4.p','wb'))"
   ]
  },
  {
   "cell_type": "code",
   "execution_count": 7,
   "metadata": {},
   "outputs": [
    {
     "name": "stdout",
     "output_type": "stream",
     "text": [
      "\n",
      "\n",
      "Problem Evlatuation\n",
      "--------------------------------------------------------\n",
      "Orders Demanded (order/hour): 275.00\n",
      "--------------------------------------------------------\n",
      "Mode \t\t|car\t|drone\t|droid\t|total\t|\n",
      "----------------|-------|-------|-------|-------|\n",
      "N (# veh.)\t|100\t|1\t|1\t|\n",
      "Orders (%)\t|100.01\t|0.00\t|0.00\t|100.01\t|\n",
      "Utilization (%)\t|0.88\t|0.00\t|0.00\t|0.87\t|\n",
      "D Time(min.)\t|18.99\t|nan\t|nan\t|18.99\t|\n",
      "Order Price\t|5.00\t|nan\t|nan\t|5.00\t|\n",
      "Op. Cost ($/hr)\t|1375.12\t|0.00\t|0.00\t|1375.12\t|\n",
      "Revenue ($/hr)\t|1375.23\t|0.00\t|0.00\t|1375.23\t|\n",
      "Distance\t|1.47\t|nan\t|nan\t|1.47\t|\n",
      "--------------------------------------------------------\n",
      "Minimum Price ($): 1.85\n",
      "--------------------------------------------------------\n",
      "total off:  0\n",
      "\n",
      "\n",
      "Problem Evlatuation\n",
      "--------------------------------------------------------\n",
      "Orders Demanded (order/hour): 275.00\n",
      "--------------------------------------------------------\n",
      "Mode \t\t|car\t|drone\t|droid\t|total\t|\n",
      "----------------|-------|-------|-------|-------|\n",
      "N (# veh.)\t|20\t|24\t|100\t|\n",
      "Orders (%)\t|16.97\t|29.19\t|53.84\t|100.00\t|\n",
      "Utilization (%)\t|0.90\t|0.80\t|0.88\t|0.86\t|\n",
      "D Time(min.)\t|23.57\t|14.66\t|26.46\t|22.53\t|\n",
      "Order Price\t|4.13\t|7.08\t|0.65\t|3.12\t|\n",
      "Op. Cost ($/hr)\t|233.35\t|401.40\t|222.09\t|856.84\t|\n",
      "Revenue ($/hr)\t|192.66\t|568.32\t|95.89\t|856.86\t|\n",
      "Distance\t|1.69\t|2.42\t|0.88\t|1.47\t|\n",
      "--------------------------------------------------------\n",
      "Minimum Price ($): 0.58\n",
      "--------------------------------------------------------\n",
      "total off:  0\n"
     ]
    },
    {
     "name": "stderr",
     "output_type": "stream",
     "text": [
      "/home/mark/Documents/code/mdrp/utils/helpers.py:108: RuntimeWarning: invalid value encountered in scalar divide\n",
      "  lat_j = np.inner(lat[:,j],flow[:,j])/(orders_j[j]*tot_demand)\n",
      "/home/mark/Documents/code/mdrp/utils/helpers.py:117: RuntimeWarning: invalid value encountered in scalar divide\n",
      "  price_j = np.inner(prices[:,j],flow[:,j])/(orders_j[j]*tot_demand)\n",
      "/home/mark/Documents/code/mdrp/utils/helpers.py:150: RuntimeWarning: invalid value encountered in scalar divide\n",
      "  dist_j = np.inner(distance[:,j],flow[:,j])/(orders_j[j]*tot_demand*1000)\n"
     ]
    }
   ],
   "source": [
    "# EVALUATE\n",
    "\n",
    "results_path = '/home/mark/Documents/code/mdrp/results/0o100t100s1p100/results_4.p'\n",
    "results = pickle.load(open(results_path,'rb'))\n",
    "# delivery_rate = 1/(np.array([[18.99,np.inf,np.inf],[23.57,14.66,26.46]])/60)\n",
    "# costs = [[20, 10, 5],[20, 10, 5],[20, 10, 5]]\n",
    "for i in range(len(results)):\n",
    "    # find prices\n",
    "    result = results[i]\n",
    "    mdrp = result['mdrp']\n",
    "    # cost per order\n",
    "    mdrp.cost = [5,5,1.5]\n",
    "    # prices, min_prices = eval_sol(result)\n",
    "\n",
    "    # check nash condition\n",
    "    x       = result['sol']\n",
    "    flow    = mdrp.vec_to_mat(np.round(x,4))\n",
    "    lat     = mdrp.get_latency(flow)\n",
    "    prices, min_prices = eval_sol(result)\n",
    "\n",
    "    count = 0\n",
    "    for i in range(mdrp.n):\n",
    "        if not np.all(np.argsort(lat[i])[::-1] ==  np.argsort(prices[i])):\n",
    "            # print('prices: ', prices[i])\n",
    "            # print('lats: ',lat[i])\n",
    "            count += 1\n",
    "    \n",
    "    print('total off: ',count)"
   ]
  },
  {
   "cell_type": "code",
   "execution_count": null,
   "metadata": {},
   "outputs": [],
   "source": []
  },
  {
   "cell_type": "code",
   "execution_count": null,
   "metadata": {},
   "outputs": [],
   "source": []
  },
  {
   "cell_type": "code",
   "execution_count": null,
   "metadata": {},
   "outputs": [],
   "source": []
  }
 ],
 "metadata": {
  "kernelspec": {
   "display_name": "Python 3.9.16 ('mdrp')",
   "language": "python",
   "name": "python3"
  },
  "language_info": {
   "codemirror_mode": {
    "name": "ipython",
    "version": 3
   },
   "file_extension": ".py",
   "mimetype": "text/x-python",
   "name": "python",
   "nbconvert_exporter": "python",
   "pygments_lexer": "ipython3",
   "version": "3.9.16 (main, Mar  1 2023, 18:22:10) \n[GCC 11.2.0]"
  },
  "orig_nbformat": 4,
  "vscode": {
   "interpreter": {
    "hash": "c298fb8bc2dfcb20af52054ce8d5e6277c2944e14fcc2024a0bb888e93340687"
   }
  }
 },
 "nbformat": 4,
 "nbformat_minor": 2
}
