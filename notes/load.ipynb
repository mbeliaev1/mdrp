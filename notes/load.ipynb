{
 "cells": [
  {
   "cell_type": "code",
   "execution_count": null,
   "metadata": {},
   "outputs": [],
   "source": [
    "import os\n",
    "import sys\n",
    "import pandas as pd\n",
    "sys.path.append('/home/mark/Documents/code/mdrp')\n",
    "\n",
    "\n",
    "import numpy as np\n",
    "from utils.nlp_mdrp import mdrp_prob\n",
    "import cyipopt"
   ]
  },
  {
   "cell_type": "code",
   "execution_count": null,
   "metadata": {},
   "outputs": [],
   "source": [
    "num_i = 5\n",
    "num_j = 3\n",
    "\n",
    "prob_setup = {}\n",
    "\n",
    "prob_setup['s_time']   = np.array([2,4,3])/60\n",
    "prob_setup['t_time']   = np.array([[45,30,10,10,10],\n",
    "                                   [15,10,10,8,5],\n",
    "                                   [20,25,30,20,20]]).T/60\n",
    "prob_setup['cost']     = np.array([[12,12,12,12,12],\n",
    "                                   [5,5,5,5,5],\n",
    "                                   [5,5,5,5,5]]).T\n",
    "prob_setup['beta']     = np.array([[0.5,0.5,0.5,0.5,0.5],\n",
    "                                   [0.5,0.5,0.5,0.5,0.5],\n",
    "                                   [0.5,0.5,0.5,0.5,0.5]]).T\n",
    "prob_setup['N']        = np.ones(num_j)*10\n",
    "prob_setup['k']        = np.ones(num_j)*10/60\n",
    "prob_setup['mu']       = np.array([2,4,3])\n",
    "prob_setup['max_rho']  = 0.9\n",
    "prob_setup['max_cost'] = 10000\n",
    "prob_setup['demand'] = 0.99\n",
    "\n",
    "# for param in prob_setup.keys():\n",
    "#     print('Parameter: %s \\nValue:\\n'%param,prob_setup[param])\n",
    "#     print('-----------------------------')\n",
    "\n",
    "# mdrp = mdrp_prob(prob_setup)\n",
    "\n",
    "# max_demand = mdrp._get_max_demand()\n",
    "# print('Max Demand: ',max_demand)\n"
   ]
  },
  {
   "cell_type": "code",
   "execution_count": null,
   "metadata": {},
   "outputs": [],
   "source": [
    "from utils.convert import convert_instance\n",
    "\n",
    "instance_dir = '/home/mark/Documents/code/mdrp/instances/0o50t75s1p100'\n",
    "parameters = {}\n",
    "parameters['speeds'] = [1,2,0.2]\n",
    "parameters['N_ratios'] = [1,1,1]\n",
    "parameters['u_ratios'] = [1,0.5,0.5]\n",
    "\n",
    "prob_setup = convert_instance(instance_dir, parameters)\n",
    "for param in ['N','k','mu']:\n",
    "    print('Parameter: %s \\nValue:\\n'%param,prob_setup[param])\n",
    "    print('-----------------------------')"
   ]
  },
  {
   "cell_type": "code",
   "execution_count": null,
   "metadata": {},
   "outputs": [],
   "source": [
    "def traveltime(origin_id,destination_id,meters_per_minute,locations):\n",
    "    dist=np.sqrt((locations.at[destination_id,'x']-locations.at[origin_id,'x'])**2\\\n",
    "                +(locations.at[destination_id,'y']-locations.at[origin_id,'y'])**2)\n",
    "    tt=np.ceil(dist/meters_per_minute)\n",
    "    return tt\n",
    "\n",
    "def read_instance_information(instance_dir):\n",
    "    orders=pd.read_table(os.path.join(instance_dir,'orders.txt'))\n",
    "    restaurants=pd.read_table(os.path.join(instance_dir,'restaurants.txt'))\n",
    "    couriers=pd.read_table(os.path.join(instance_dir,'couriers.txt'))\n",
    "    instanceparams=pd.read_table(os.path.join(instance_dir,'instance_parameters.txt'))\n",
    "\n",
    "    order_locations=pd.DataFrame(data=[orders.order,orders.x,orders.y]).transpose()\n",
    "    order_locations.columns=['id','x','y']\n",
    "    restaurant_locations=pd.DataFrame(data=[restaurants.restaurant,restaurants.x,restaurants.y]).transpose()\n",
    "    restaurant_locations.columns=['id','x','y']\n",
    "    courier_locations=pd.DataFrame(data=[couriers.courier,couriers.x,couriers.y]).transpose()\n",
    "    courier_locations.columns=['id','x','y']\n",
    "    locations=pd.concat([order_locations,restaurant_locations,courier_locations])\n",
    "    locations.set_index('id',inplace=True)\n",
    "\n",
    "    orders.set_index('order',inplace=True)\n",
    "    couriers.set_index('courier',inplace=True)\n",
    "    restaurants.set_index('restaurant',inplace=True)\n",
    "\n",
    "    meters_per_minute=instanceparams.at[0,'meters_per_minute']\n",
    "    pickup_service_minutes=instanceparams.at[0,'pickup service minutes']\n",
    "    dropoff_service_minutes=instanceparams.at[0,'dropoff service minutes']\n",
    "    target_click_to_door=instanceparams.at[0,'target click-to-door']\n",
    "    pay_per_order=instanceparams.at[0,'pay per order']\n",
    "    guaranteed_pay_per_hour=instanceparams.at[0,'guaranteed pay per hour']\n",
    "    return orders,restaurants,couriers,instanceparams,locations,meters_per_minute,\\\n",
    "           pickup_service_minutes,dropoff_service_minutes,target_click_to_door,\\\n",
    "           pay_per_order,guaranteed_pay_per_hour\n"
   ]
  },
  {
   "cell_type": "markdown",
   "metadata": {},
   "source": [
    "Here are the paramters required and how we plan to load them using the instances\n",
    "\n",
    "- s_time: (service time) Listing 4 pickup+dropoff time,\n",
    "- t_time: (travel time) Listing 4 Travel time multiplier * Listing1&2 distance b/w resteraunt + order\n",
    "- cost: (cost) Listing 4 per-order pay (constant for all orders), can be set seperately for different modes\n",
    "- beta: (fraction of available couriers): compute using function based on Listing 2 Courier locations and Listing 4 Resteraunt locations\n",
    "- N: (number of couriers per type) Listing 3 courier set, divided by the courier types\n",
    "- k: (minutes around pickup location) This can be done together with computing N, beta, & mu.\n",
    "- mu: (rate of order completioono) pre compute as ivnerse of average t_time + s_time\n",
    "\n",
    "List any assumptions we are going to make:\n",
    "- service time is constant\n",
    "- travel time relies on L1 distance for cars+couriers, and l1 distance for drones\n",
    "- drones are distributed uniformly around the grid, droids are distributed closer to the center. "
   ]
  },
  {
   "cell_type": "code",
   "execution_count": null,
   "metadata": {},
   "outputs": [],
   "source": [
    "instance_dir = '/home/mark/Documents/code/mdrp/instances/0o50t75s1p100'\n",
    "print('reading instance information')   \n",
    "orders,restaurants,couriers,instanceparams,locations,meters_per_minute,\\\n",
    "pickup_service_minutes,dropoff_service_minutes,target_click_to_door,\\\n",
    "pay_per_order,guaranteed_pay_per_hour = read_instance_information(instance_dir)\n",
    "\n",
    "parameters = {}\n",
    "# 800 meters per minute is roughly 30mph\n",
    "parameters['speeds'] = [1,2,0.2]\n",
    "parameters['N_ratios'] = [1,1,1]\n",
    "parameters['u_ratios'] = [1,0.5,0.5]\n",
    "n_modes = len(parameters['speeds'])\n"
   ]
  },
  {
   "cell_type": "code",
   "execution_count": null,
   "metadata": {},
   "outputs": [],
   "source": [
    "# service time\n",
    "s_t = (pickup_service_minutes+dropoff_service_minutes)/60\n",
    "s_time = np.array([s_t, s_t/2, s_t/2])\n",
    "t_time = np.array\n",
    "\n",
    "# travel time\n",
    "n_orders = len(orders)\n",
    "t_time = np.zeros((n_orders,n_modes))\n",
    "temp = []\n",
    "for order in orders.index:\n",
    "    temp.append(traveltime(order,orders.at[order,'restaurant'],meters_per_minute,locations)/60)\n",
    "for j in range(n_modes):\n",
    "    t_time[:,j] = np.asarray(temp)/parameters['speeds'][j]\n",
    "\n",
    "# costs just simple constant model\n",
    "cost = np.zeros_like(t_time)\n",
    "mode_costs = [10,5,5]\n",
    "for j in range(n_modes):\n",
    "    cost[:,j] = mode_costs[j]*np.ones(n_orders)\n",
    "\n"
   ]
  },
  {
   "cell_type": "code",
   "execution_count": null,
   "metadata": {},
   "outputs": [],
   "source": [
    "# beta, N, k, mu All together.\n",
    "car_locs = np.array([couriers.x,couriers.y]).T\n",
    "N = np.array(parameters['N_ratios'])*len(car_locs)\n",
    "# print(N)\n",
    "k = np.ones(num_j)*10/60 # 5 minutes around center\n",
    "\n",
    "# lets make drone couriers (unifromly around entire grid)\n",
    "n_drones = len(car_locs)*parameters['N_ratios'][1]\n",
    "grid_x = [restaurants.x.min(),restaurants.x.max()]\n",
    "grid_y = [restaurants.y.min(),restaurants.y.max()]\n",
    "drone_locs = np.array([grid_x[0]+np.random.rand(n_drones)*(grid_x[1]-grid_x[0]),\n",
    "                       grid_y[0]+np.random.rand(n_drones)*(grid_y[1]-grid_y[0])]).T\n",
    "\n",
    "n_droids = len(car_locs)*parameters['N_ratios'][2]\n",
    "grid_x = [restaurants.x.mean()-0.5*restaurants.x.std(),restaurants.x.mean()+0.5*restaurants.x.std()]\n",
    "grid_y = [restaurants.y.mean()-0.5*restaurants.y.std(),restaurants.y.mean()+0.5*restaurants.y.std()]\n",
    "droid_locs = np.array([grid_x[0]+np.random.rand(n_droids)*(grid_x[1]-grid_x[0]),\n",
    "                       grid_y[0]+np.random.rand(n_droids)*(grid_y[1]-grid_y[0])]).T\n",
    "\n",
    "all_locs = [car_locs, drone_locs, droid_locs]\n",
    "# beta\n",
    "beta = np.zeros_like(t_time)\n",
    "for i in range(1,n_orders+1):\n",
    "    rest = orders.at['o%d'%i,'restaurant']\n",
    "    loc = [restaurants.at[rest,'x'],restaurants.at[rest,'y']]\n",
    "    for j in range(n_modes):\n",
    "        count = 0\n",
    "        for cour_loc in all_locs[j]:\n",
    "            dist = np.sqrt(((cour_loc-loc)**2).sum())\n",
    "            # print((dist/(meters_per_minute*parameters['speeds'][j]))/60)\n",
    "            if (dist/(meters_per_minute*parameters['speeds'][j]))/60 < k[j]:\n",
    "                count+=1\n",
    "        beta[i-1,j] = count/N[j]\n",
    "\n",
    "mu = 1/(((k/(1+beta*N*(0.1))) + s_time + t_time).mean(axis=0))\n",
    "\n",
    "mu"
   ]
  },
  {
   "cell_type": "code",
   "execution_count": null,
   "metadata": {},
   "outputs": [],
   "source": []
  },
  {
   "cell_type": "code",
   "execution_count": null,
   "metadata": {},
   "outputs": [],
   "source": [
    "5/60"
   ]
  },
  {
   "cell_type": "markdown",
   "metadata": {},
   "source": []
  },
  {
   "cell_type": "markdown",
   "metadata": {},
   "source": []
  }
 ],
 "metadata": {
  "kernelspec": {
   "display_name": "Python 3.9.16 ('mdrp')",
   "language": "python",
   "name": "python3"
  },
  "language_info": {
   "codemirror_mode": {
    "name": "ipython",
    "version": 3
   },
   "file_extension": ".py",
   "mimetype": "text/x-python",
   "name": "python",
   "nbconvert_exporter": "python",
   "pygments_lexer": "ipython3",
   "version": "3.9.16"
  },
  "orig_nbformat": 4,
  "vscode": {
   "interpreter": {
    "hash": "c298fb8bc2dfcb20af52054ce8d5e6277c2944e14fcc2024a0bb888e93340687"
   }
  }
 },
 "nbformat": 4,
 "nbformat_minor": 2
}
